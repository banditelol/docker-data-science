{
 "cells": [
  {
   "cell_type": "markdown",
   "metadata": {},
   "source": [
    "# Holding out some data \n",
    "This will be useful later for simulating additional data. In this case let's split the data into several splits:\n",
    "- `offline_iris.csv` : unbalance data with 70% of data and 5:3:2 split\n",
    "- `offline_patch.csv` : additional split 15% of data that will balance `offline_iris.csv`\n",
    "- `online_balance.csv` : 5% split with balanced distribution to simulate balanced additional data\n",
    "- `online_imb_1.csv` : 5% split with imbalanced distribution to simulate imbalanced addition\n",
    "- `online_imb_2.csv` : 5% split with imbalanced distribution to simulate online addition that's imbalanced but will make the whole dataset to be balanced."
   ]
  },
  {
   "cell_type": "code",
   "execution_count": null,
   "metadata": {},
   "outputs": [],
   "source": [
    "import pandas as pd\n",
    "import numpy as np\n",
    "\n",
    "SEED = 42\n",
    "raw_csv = \"../data/raw/iris.csv\"\n",
    "raw_df = pd.read_csv(raw_csv)"
   ]
  },
  {
   "cell_type": "code",
   "execution_count": null,
   "metadata": {},
   "outputs": [],
   "source": [
    "def set_seed(seed=SEED):\n",
    "    "
   ]
  }
 ],
 "metadata": {
  "language_info": {
   "name": "python"
  },
  "orig_nbformat": 4
 },
 "nbformat": 4,
 "nbformat_minor": 2
}
